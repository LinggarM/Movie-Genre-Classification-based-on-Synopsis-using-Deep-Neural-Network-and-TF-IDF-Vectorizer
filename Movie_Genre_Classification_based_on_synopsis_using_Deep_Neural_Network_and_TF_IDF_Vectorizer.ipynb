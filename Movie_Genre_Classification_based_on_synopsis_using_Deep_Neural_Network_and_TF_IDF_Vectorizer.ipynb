{
  "nbformat": 4,
  "nbformat_minor": 0,
  "metadata": {
    "colab": {
      "name": "Movie Genre Classification based on synopsis using Deep Neural Network and TF-IDF Vectorizer.ipynb",
      "provenance": [],
      "collapsed_sections": [],
      "toc_visible": true,
      "authorship_tag": "ABX9TyP1dyGD4xSlt/4Brl7+emMH",
      "include_colab_link": true
    },
    "kernelspec": {
      "name": "python3",
      "display_name": "Python 3"
    },
    "language_info": {
      "name": "python"
    }
  },
  "cells": [
    {
      "cell_type": "markdown",
      "metadata": {
        "id": "view-in-github",
        "colab_type": "text"
      },
      "source": [
        "<a href=\"https://colab.research.google.com/github/LinggarM/Movie-Genre-Classification-based-on-synopsis-using-Deep-Neural-Network-and-TF-IDF-Vectorizer/blob/main/Movie_Genre_Classification_based_on_synopsis_using_Deep_Neural_Network_and_TF_IDF_Vectorizer.ipynb\" target=\"_parent\"><img src=\"https://colab.research.google.com/assets/colab-badge.svg\" alt=\"Open In Colab\"/></a>"
      ]
    },
    {
      "cell_type": "markdown",
      "metadata": {
        "id": "dLawSac1hFm6"
      },
      "source": [
        "# Retrieve Data"
      ]
    },
    {
      "cell_type": "code",
      "metadata": {
        "id": "VZFluIfKaU-t"
      },
      "source": [
        "import json\n",
        "import requests"
      ],
      "execution_count": 7,
      "outputs": []
    },
    {
      "cell_type": "code",
      "metadata": {
        "id": "mANra8rKabAm"
      },
      "source": [
        "titles = []\n",
        "synopsis = []\n",
        "genres = []\n",
        "\n",
        "for i in range(1000) :\n",
        "  url = (\"https://api.themoviedb.org/3/movie/%d?api_key=63fea4c709da1f1496b7a1ca7a3c6083\" % i)\n",
        "  r = requests.get(url)\n",
        "  json_data = json.loads(r.text)\n",
        "  try:\n",
        "    if ((json_data['overview'] != \"\") and (json_data['overview'] != \"No overview found.\") and (json_data['original_language'] == 'en') and (json_data['genres'][0].get('name') != \"\")) :\n",
        "      titles.append(json_data['title'])\n",
        "      synopsis.append(json_data['overview'])\n",
        "      genres.append(json_data['genres'][0].get('name'))\n",
        "  except Exception:\n",
        "    pass"
      ],
      "execution_count": 8,
      "outputs": []
    },
    {
      "cell_type": "code",
      "metadata": {
        "colab": {
          "base_uri": "https://localhost:8080/",
          "height": 204
        },
        "id": "FAmX9w8nag7i",
        "outputId": "7ed65483-1b38-4776-fd38-f5a9cdbc52da"
      },
      "source": [
        "import pandas as pd\n",
        "\n",
        "df_movies = pd.DataFrame({'title': titles, 'synopsis': synopsis, 'genre': genres})\n",
        "df_movies.head()"
      ],
      "execution_count": 9,
      "outputs": [
        {
          "output_type": "execute_result",
          "data": {
            "text/html": [
              "<div>\n",
              "<style scoped>\n",
              "    .dataframe tbody tr th:only-of-type {\n",
              "        vertical-align: middle;\n",
              "    }\n",
              "\n",
              "    .dataframe tbody tr th {\n",
              "        vertical-align: top;\n",
              "    }\n",
              "\n",
              "    .dataframe thead th {\n",
              "        text-align: right;\n",
              "    }\n",
              "</style>\n",
              "<table border=\"1\" class=\"dataframe\">\n",
              "  <thead>\n",
              "    <tr style=\"text-align: right;\">\n",
              "      <th></th>\n",
              "      <th>title</th>\n",
              "      <th>synopsis</th>\n",
              "      <th>genre</th>\n",
              "    </tr>\n",
              "  </thead>\n",
              "  <tbody>\n",
              "    <tr>\n",
              "      <th>0</th>\n",
              "      <td>Four Rooms</td>\n",
              "      <td>It's Ted the Bellhop's first night on the job....</td>\n",
              "      <td>Crime</td>\n",
              "    </tr>\n",
              "    <tr>\n",
              "      <th>1</th>\n",
              "      <td>Judgment Night</td>\n",
              "      <td>While racing to a boxing match, Frank, Mike, J...</td>\n",
              "      <td>Action</td>\n",
              "    </tr>\n",
              "    <tr>\n",
              "      <th>2</th>\n",
              "      <td>Life in Loops (A Megacities RMX)</td>\n",
              "      <td>Timo Novotny labels his new project an experim...</td>\n",
              "      <td>Documentary</td>\n",
              "    </tr>\n",
              "    <tr>\n",
              "      <th>3</th>\n",
              "      <td>Star Wars</td>\n",
              "      <td>Princess Leia is captured and held hostage by ...</td>\n",
              "      <td>Adventure</td>\n",
              "    </tr>\n",
              "    <tr>\n",
              "      <th>4</th>\n",
              "      <td>Finding Nemo</td>\n",
              "      <td>Nemo, an adventurous young clownfish, is unexp...</td>\n",
              "      <td>Animation</td>\n",
              "    </tr>\n",
              "  </tbody>\n",
              "</table>\n",
              "</div>"
            ],
            "text/plain": [
              "                              title  ...        genre\n",
              "0                        Four Rooms  ...        Crime\n",
              "1                    Judgment Night  ...       Action\n",
              "2  Life in Loops (A Megacities RMX)  ...  Documentary\n",
              "3                         Star Wars  ...    Adventure\n",
              "4                      Finding Nemo  ...    Animation\n",
              "\n",
              "[5 rows x 3 columns]"
            ]
          },
          "metadata": {
            "tags": []
          },
          "execution_count": 9
        }
      ]
    },
    {
      "cell_type": "code",
      "metadata": {
        "colab": {
          "base_uri": "https://localhost:8080/"
        },
        "id": "36ZuVPBmbkM7",
        "outputId": "be08969d-6fe9-4ef1-eade-93eea3372079"
      },
      "source": [
        "df_movies.info()"
      ],
      "execution_count": 10,
      "outputs": [
        {
          "output_type": "stream",
          "text": [
            "<class 'pandas.core.frame.DataFrame'>\n",
            "RangeIndex: 621 entries, 0 to 620\n",
            "Data columns (total 3 columns):\n",
            " #   Column    Non-Null Count  Dtype \n",
            "---  ------    --------------  ----- \n",
            " 0   title     621 non-null    object\n",
            " 1   synopsis  621 non-null    object\n",
            " 2   genre     621 non-null    object\n",
            "dtypes: object(3)\n",
            "memory usage: 14.7+ KB\n"
          ],
          "name": "stdout"
        }
      ]
    },
    {
      "cell_type": "code",
      "metadata": {
        "colab": {
          "base_uri": "https://localhost:8080/"
        },
        "id": "XsimBoXtiNl_",
        "outputId": "5c1c9c92-c431-4489-82fa-3b2d4d5c7205"
      },
      "source": [
        "from sklearn.preprocessing import LabelEncoder\n",
        "\n",
        "encoder = LabelEncoder()\n",
        "labels = encoder.fit_transform(df_movies['genre'].values)\n",
        "labels"
      ],
      "execution_count": 11,
      "outputs": [
        {
          "output_type": "execute_result",
          "data": {
            "text/plain": [
              "array([ 4,  0,  5,  1,  2,  3,  6, 12,  6, 10,  1,  6,  5,  1,  0,  6,  6,\n",
              "        6, 17,  2, 14,  1,  6, 14, 14, 11,  4, 15,  3,  6,  6,  6,  6,  1,\n",
              "        3,  6, 12, 14,  6,  0,  6,  1,  1,  6,  1,  0,  5,  4,  3,  0,  0,\n",
              "       14,  0,  3,  4,  4,  1, 14,  4,  0, 13,  3,  6,  4,  1,  1,  1,  1,\n",
              "        1,  5,  5,  1,  5,  6, 13, 10,  8,  6,  6, 13, 15, 14, 13,  0,  6,\n",
              "       14, 15,  8, 15,  3,  1, 14, 14, 14, 10, 14,  1, 14, 10,  3, 15,  4,\n",
              "        0,  6,  1,  4, 14,  6, 15,  4,  6, 14,  3,  1,  0,  3, 14, 14, 14,\n",
              "        6,  6,  6,  6,  3, 12, 10, 10,  1,  0,  6,  6,  6,  4,  4,  6,  6,\n",
              "        0,  6,  4,  3,  6,  6,  3,  6,  4,  4,  3,  1,  6,  4,  3,  3,  8,\n",
              "        7,  1,  1,  4, 12,  6,  6,  8,  0,  4,  4,  8,  6, 11,  0,  4,  3,\n",
              "        1,  3, 17,  6,  3,  5,  3,  6,  6,  0,  8,  4,  3, 17,  4, 15,  0,\n",
              "        3,  8,  6, 13,  0,  0,  6,  0,  4,  3, 15,  0,  4,  1,  1,  1,  0,\n",
              "        3,  6,  3,  3,  4,  3,  6, 10,  3,  0, 10,  3,  6,  6,  4,  6,  4,\n",
              "        6,  6,  3,  0,  1,  6,  3,  4,  6,  3, 15,  6,  6,  8,  6,  1,  0,\n",
              "       14,  1,  6,  6,  2, 12,  3, 15,  3,  0, 15, 12,  8,  6,  6,  6,  6,\n",
              "        3,  6, 12,  4,  6,  3,  6,  6, 12,  4,  6,  0,  0,  3,  1,  6,  3,\n",
              "        0,  1,  3,  8,  4,  5,  6,  1,  4,  4,  4,  0,  3, 13,  6,  3,  6,\n",
              "        4,  3,  4, 11,  1,  6,  1,  2,  7,  1,  0,  6,  5, 10,  0,  4,  6,\n",
              "       13,  6,  6,  6,  6,  0,  4, 15,  8,  0,  8,  4,  8,  0,  1,  1, 10,\n",
              "       15,  6, 10,  4,  4,  1,  6, 10, 10,  1,  1,  3,  0,  2,  3,  1, 10,\n",
              "        6, 15,  4,  3,  4,  6,  6,  6,  6, 14,  0,  0,  1,  1,  9,  0,  0,\n",
              "       10,  6,  6,  6, 12,  6, 15,  3, 13, 12,  3,  1,  6,  6, 10,  6,  1,\n",
              "        6, 16,  3, 10,  6,  6,  3,  6,  4, 17,  6,  1,  6,  3,  1,  4,  6,\n",
              "        0,  1,  1, 10,  0,  6,  0,  1,  5,  1,  1,  1,  1,  1, 16,  4,  0,\n",
              "       15,  1,  1,  6,  6,  6,  1,  3,  3, 10,  3,  3,  0,  1,  1,  3,  6,\n",
              "        3, 11,  6,  1,  0,  1,  1,  6,  3,  6,  1,  0, 12,  6, 10,  3,  3,\n",
              "        0,  6,  0, 10,  2,  3,  6, 11,  1, 10, 10, 10,  8,  1, 10,  6,  6,\n",
              "        3,  3,  3, 15,  6,  6,  0,  3, 10, 10,  6,  4, 10, 13,  6,  3,  4,\n",
              "        3,  6, 10,  4,  2,  2,  8,  1,  2,  3, 10,  7, 14,  1,  3,  4,  6,\n",
              "        6,  6,  6,  6,  6,  4, 14, 14,  8, 10,  3,  0, 14,  0,  6,  4, 12,\n",
              "        0,  8,  0,  3,  6,  6, 13,  0,  8,  6,  3,  6, 15,  0,  2,  2,  3,\n",
              "       14,  6,  6, 15, 14,  3,  6,  6, 13,  0,  1,  6,  3,  6,  6,  6,  6,\n",
              "        8,  3,  6,  4,  6,  3,  3,  4,  6,  3,  4,  3,  4,  6,  3,  0,  3,\n",
              "        8,  2, 13,  6, 10,  0,  6,  3,  8,  3, 14, 15,  6,  3,  6, 12,  1,\n",
              "        0,  1,  0,  6, 16, 10,  0,  2,  3,  7,  1,  1,  1,  3,  0,  1, 12,\n",
              "        6,  6, 17,  9,  4,  6,  6,  1,  1, 17,  3, 15,  1,  0,  8,  3, 13,\n",
              "        6,  6,  6,  6,  0, 12,  4, 17,  4])"
            ]
          },
          "metadata": {
            "tags": []
          },
          "execution_count": 11
        }
      ]
    },
    {
      "cell_type": "code",
      "metadata": {
        "colab": {
          "base_uri": "https://localhost:8080/"
        },
        "id": "5oaev0P6imGE",
        "outputId": "78b11e80-1537-45e7-9537-f39f97ca97a8"
      },
      "source": [
        "encoder.classes_"
      ],
      "execution_count": 12,
      "outputs": [
        {
          "output_type": "execute_result",
          "data": {
            "text/plain": [
              "array(['Action', 'Adventure', 'Animation', 'Comedy', 'Crime',\n",
              "       'Documentary', 'Drama', 'Family', 'Fantasy', 'History', 'Horror',\n",
              "       'Music', 'Mystery', 'Romance', 'Science Fiction', 'Thriller',\n",
              "       'War', 'Western'], dtype=object)"
            ]
          },
          "metadata": {
            "tags": []
          },
          "execution_count": 12
        }
      ]
    },
    {
      "cell_type": "code",
      "metadata": {
        "colab": {
          "base_uri": "https://localhost:8080/",
          "height": 419
        },
        "id": "x_9jdhVmjKeK",
        "outputId": "e670265f-dc7d-4954-8d9a-31f011861d0c"
      },
      "source": [
        "df_movies['label'] = labels\n",
        "df_movies"
      ],
      "execution_count": 13,
      "outputs": [
        {
          "output_type": "execute_result",
          "data": {
            "text/html": [
              "<div>\n",
              "<style scoped>\n",
              "    .dataframe tbody tr th:only-of-type {\n",
              "        vertical-align: middle;\n",
              "    }\n",
              "\n",
              "    .dataframe tbody tr th {\n",
              "        vertical-align: top;\n",
              "    }\n",
              "\n",
              "    .dataframe thead th {\n",
              "        text-align: right;\n",
              "    }\n",
              "</style>\n",
              "<table border=\"1\" class=\"dataframe\">\n",
              "  <thead>\n",
              "    <tr style=\"text-align: right;\">\n",
              "      <th></th>\n",
              "      <th>title</th>\n",
              "      <th>synopsis</th>\n",
              "      <th>genre</th>\n",
              "      <th>label</th>\n",
              "    </tr>\n",
              "  </thead>\n",
              "  <tbody>\n",
              "    <tr>\n",
              "      <th>0</th>\n",
              "      <td>Four Rooms</td>\n",
              "      <td>It's Ted the Bellhop's first night on the job....</td>\n",
              "      <td>Crime</td>\n",
              "      <td>4</td>\n",
              "    </tr>\n",
              "    <tr>\n",
              "      <th>1</th>\n",
              "      <td>Judgment Night</td>\n",
              "      <td>While racing to a boxing match, Frank, Mike, J...</td>\n",
              "      <td>Action</td>\n",
              "      <td>0</td>\n",
              "    </tr>\n",
              "    <tr>\n",
              "      <th>2</th>\n",
              "      <td>Life in Loops (A Megacities RMX)</td>\n",
              "      <td>Timo Novotny labels his new project an experim...</td>\n",
              "      <td>Documentary</td>\n",
              "      <td>5</td>\n",
              "    </tr>\n",
              "    <tr>\n",
              "      <th>3</th>\n",
              "      <td>Star Wars</td>\n",
              "      <td>Princess Leia is captured and held hostage by ...</td>\n",
              "      <td>Adventure</td>\n",
              "      <td>1</td>\n",
              "    </tr>\n",
              "    <tr>\n",
              "      <th>4</th>\n",
              "      <td>Finding Nemo</td>\n",
              "      <td>Nemo, an adventurous young clownfish, is unexp...</td>\n",
              "      <td>Animation</td>\n",
              "      <td>2</td>\n",
              "    </tr>\n",
              "    <tr>\n",
              "      <th>...</th>\n",
              "      <td>...</td>\n",
              "      <td>...</td>\n",
              "      <td>...</td>\n",
              "      <td>...</td>\n",
              "    </tr>\n",
              "    <tr>\n",
              "      <th>616</th>\n",
              "      <td>Sherlock Jr.</td>\n",
              "      <td>A film projectionist longs to be a detective, ...</td>\n",
              "      <td>Action</td>\n",
              "      <td>0</td>\n",
              "    </tr>\n",
              "    <tr>\n",
              "      <th>617</th>\n",
              "      <td>Sleuth</td>\n",
              "      <td>A mystery novelist devises an insurance scam w...</td>\n",
              "      <td>Mystery</td>\n",
              "      <td>12</td>\n",
              "    </tr>\n",
              "    <tr>\n",
              "      <th>618</th>\n",
              "      <td>Straw Dogs</td>\n",
              "      <td>David Sumner, a mild-mannered academic from th...</td>\n",
              "      <td>Crime</td>\n",
              "      <td>4</td>\n",
              "    </tr>\n",
              "    <tr>\n",
              "      <th>619</th>\n",
              "      <td>Stagecoach</td>\n",
              "      <td>A group of people traveling on a stagecoach fi...</td>\n",
              "      <td>Western</td>\n",
              "      <td>17</td>\n",
              "    </tr>\n",
              "    <tr>\n",
              "      <th>620</th>\n",
              "      <td>Double Indemnity</td>\n",
              "      <td>A rich woman and a calculating insurance agent...</td>\n",
              "      <td>Crime</td>\n",
              "      <td>4</td>\n",
              "    </tr>\n",
              "  </tbody>\n",
              "</table>\n",
              "<p>621 rows × 4 columns</p>\n",
              "</div>"
            ],
            "text/plain": [
              "                                title  ... label\n",
              "0                          Four Rooms  ...     4\n",
              "1                      Judgment Night  ...     0\n",
              "2    Life in Loops (A Megacities RMX)  ...     5\n",
              "3                           Star Wars  ...     1\n",
              "4                        Finding Nemo  ...     2\n",
              "..                                ...  ...   ...\n",
              "616                      Sherlock Jr.  ...     0\n",
              "617                            Sleuth  ...    12\n",
              "618                        Straw Dogs  ...     4\n",
              "619                        Stagecoach  ...    17\n",
              "620                  Double Indemnity  ...     4\n",
              "\n",
              "[621 rows x 4 columns]"
            ]
          },
          "metadata": {
            "tags": []
          },
          "execution_count": 13
        }
      ]
    },
    {
      "cell_type": "code",
      "metadata": {
        "colab": {
          "base_uri": "https://localhost:8080/"
        },
        "id": "Xhg8pbe0RQAj",
        "outputId": "14ee130d-3c7c-4f6a-9574-8eb5b27bcd99"
      },
      "source": [
        "from google.colab import drive\n",
        "drive.mount('/gdrive')"
      ],
      "execution_count": 14,
      "outputs": [
        {
          "output_type": "stream",
          "text": [
            "Mounted at /gdrive\n"
          ],
          "name": "stdout"
        }
      ]
    },
    {
      "cell_type": "markdown",
      "metadata": {
        "id": "Z1-cYddfoonX"
      },
      "source": [
        "# Data Preprocessing"
      ]
    },
    {
      "cell_type": "code",
      "metadata": {
        "id": "MMqklkJMRB6E"
      },
      "source": [
        "df_movies.to_csv(\"/gdrive/MyDrive/Upload/Machine Learning/Projects/Movie Genre Classification based on synopsis using Deep Neural Network and TF-IDF Vectorizer/df_movies.csv\", index = False)"
      ],
      "execution_count": 15,
      "outputs": []
    },
    {
      "cell_type": "code",
      "metadata": {
        "colab": {
          "base_uri": "https://localhost:8080/",
          "height": 419
        },
        "id": "QZbByGP5Wk15",
        "outputId": "8016214a-c265-4bdd-d226-1a8e54789bd6"
      },
      "source": [
        "df_movies = pd.read_csv(\"/gdrive/MyDrive/Upload/Machine Learning/Projects/Movie Genre Classification based on synopsis using Deep Neural Network and TF-IDF Vectorizer/df_movies.csv\")\n",
        "df_movies"
      ],
      "execution_count": 16,
      "outputs": [
        {
          "output_type": "execute_result",
          "data": {
            "text/html": [
              "<div>\n",
              "<style scoped>\n",
              "    .dataframe tbody tr th:only-of-type {\n",
              "        vertical-align: middle;\n",
              "    }\n",
              "\n",
              "    .dataframe tbody tr th {\n",
              "        vertical-align: top;\n",
              "    }\n",
              "\n",
              "    .dataframe thead th {\n",
              "        text-align: right;\n",
              "    }\n",
              "</style>\n",
              "<table border=\"1\" class=\"dataframe\">\n",
              "  <thead>\n",
              "    <tr style=\"text-align: right;\">\n",
              "      <th></th>\n",
              "      <th>title</th>\n",
              "      <th>synopsis</th>\n",
              "      <th>genre</th>\n",
              "      <th>label</th>\n",
              "    </tr>\n",
              "  </thead>\n",
              "  <tbody>\n",
              "    <tr>\n",
              "      <th>0</th>\n",
              "      <td>Four Rooms</td>\n",
              "      <td>It's Ted the Bellhop's first night on the job....</td>\n",
              "      <td>Crime</td>\n",
              "      <td>4</td>\n",
              "    </tr>\n",
              "    <tr>\n",
              "      <th>1</th>\n",
              "      <td>Judgment Night</td>\n",
              "      <td>While racing to a boxing match, Frank, Mike, J...</td>\n",
              "      <td>Action</td>\n",
              "      <td>0</td>\n",
              "    </tr>\n",
              "    <tr>\n",
              "      <th>2</th>\n",
              "      <td>Life in Loops (A Megacities RMX)</td>\n",
              "      <td>Timo Novotny labels his new project an experim...</td>\n",
              "      <td>Documentary</td>\n",
              "      <td>5</td>\n",
              "    </tr>\n",
              "    <tr>\n",
              "      <th>3</th>\n",
              "      <td>Star Wars</td>\n",
              "      <td>Princess Leia is captured and held hostage by ...</td>\n",
              "      <td>Adventure</td>\n",
              "      <td>1</td>\n",
              "    </tr>\n",
              "    <tr>\n",
              "      <th>4</th>\n",
              "      <td>Finding Nemo</td>\n",
              "      <td>Nemo, an adventurous young clownfish, is unexp...</td>\n",
              "      <td>Animation</td>\n",
              "      <td>2</td>\n",
              "    </tr>\n",
              "    <tr>\n",
              "      <th>...</th>\n",
              "      <td>...</td>\n",
              "      <td>...</td>\n",
              "      <td>...</td>\n",
              "      <td>...</td>\n",
              "    </tr>\n",
              "    <tr>\n",
              "      <th>616</th>\n",
              "      <td>Sherlock Jr.</td>\n",
              "      <td>A film projectionist longs to be a detective, ...</td>\n",
              "      <td>Action</td>\n",
              "      <td>0</td>\n",
              "    </tr>\n",
              "    <tr>\n",
              "      <th>617</th>\n",
              "      <td>Sleuth</td>\n",
              "      <td>A mystery novelist devises an insurance scam w...</td>\n",
              "      <td>Mystery</td>\n",
              "      <td>12</td>\n",
              "    </tr>\n",
              "    <tr>\n",
              "      <th>618</th>\n",
              "      <td>Straw Dogs</td>\n",
              "      <td>David Sumner, a mild-mannered academic from th...</td>\n",
              "      <td>Crime</td>\n",
              "      <td>4</td>\n",
              "    </tr>\n",
              "    <tr>\n",
              "      <th>619</th>\n",
              "      <td>Stagecoach</td>\n",
              "      <td>A group of people traveling on a stagecoach fi...</td>\n",
              "      <td>Western</td>\n",
              "      <td>17</td>\n",
              "    </tr>\n",
              "    <tr>\n",
              "      <th>620</th>\n",
              "      <td>Double Indemnity</td>\n",
              "      <td>A rich woman and a calculating insurance agent...</td>\n",
              "      <td>Crime</td>\n",
              "      <td>4</td>\n",
              "    </tr>\n",
              "  </tbody>\n",
              "</table>\n",
              "<p>621 rows × 4 columns</p>\n",
              "</div>"
            ],
            "text/plain": [
              "                                title  ... label\n",
              "0                          Four Rooms  ...     4\n",
              "1                      Judgment Night  ...     0\n",
              "2    Life in Loops (A Megacities RMX)  ...     5\n",
              "3                           Star Wars  ...     1\n",
              "4                        Finding Nemo  ...     2\n",
              "..                                ...  ...   ...\n",
              "616                      Sherlock Jr.  ...     0\n",
              "617                            Sleuth  ...    12\n",
              "618                        Straw Dogs  ...     4\n",
              "619                        Stagecoach  ...    17\n",
              "620                  Double Indemnity  ...     4\n",
              "\n",
              "[621 rows x 4 columns]"
            ]
          },
          "metadata": {
            "tags": []
          },
          "execution_count": 16
        }
      ]
    },
    {
      "cell_type": "code",
      "metadata": {
        "id": "VSdklV-Ikjbf"
      },
      "source": [
        "from sklearn.model_selection import train_test_split\n",
        "\n",
        "x_train, x_test, y_train, y_test = train_test_split(df_movies['synopsis'].values, df_movies['label'].values, test_size = 0.2, random_state = 0)"
      ],
      "execution_count": 17,
      "outputs": []
    },
    {
      "cell_type": "markdown",
      "metadata": {
        "id": "JCnZ3iS0hMQW"
      },
      "source": [
        "# Feature Engineering"
      ]
    },
    {
      "cell_type": "code",
      "metadata": {
        "id": "ABWCMNdofhBp"
      },
      "source": [
        "from sklearn.feature_extraction.text import TfidfVectorizer\n",
        "\n",
        "vectorizer = TfidfVectorizer(stop_words='english', lowercase = True)\n",
        "features = vectorizer.fit_transform(x_train) # training vector TF-IDF pada tiap data\n",
        "features_test = vectorizer.transform(x_test)"
      ],
      "execution_count": 144,
      "outputs": []
    },
    {
      "cell_type": "code",
      "metadata": {
        "colab": {
          "base_uri": "https://localhost:8080/"
        },
        "id": "UGjs_zskfdjQ",
        "outputId": "a0759b1a-3ea6-4304-9592-2b3a272020e4"
      },
      "source": [
        "features[0]"
      ],
      "execution_count": 154,
      "outputs": [
        {
          "output_type": "execute_result",
          "data": {
            "text/plain": [
              "<1x5661 sparse matrix of type '<class 'numpy.float64'>'\n",
              "\twith 40 stored elements in Compressed Sparse Row format>"
            ]
          },
          "metadata": {
            "tags": []
          },
          "execution_count": 154
        }
      ]
    },
    {
      "cell_type": "code",
      "metadata": {
        "colab": {
          "base_uri": "https://localhost:8080/"
        },
        "id": "xvmWqNykhUa1",
        "outputId": "bf1d03bc-c3b4-473c-a873-a0d1a8d93190"
      },
      "source": [
        "print(type(features),features.shape)"
      ],
      "execution_count": 155,
      "outputs": [
        {
          "output_type": "stream",
          "text": [
            "<class 'scipy.sparse.csr.csr_matrix'> (496, 5661)\n"
          ],
          "name": "stdout"
        }
      ]
    },
    {
      "cell_type": "code",
      "metadata": {
        "colab": {
          "base_uri": "https://localhost:8080/"
        },
        "id": "Ltc_sXbsjRny",
        "outputId": "19527d7e-34af-4228-ad5c-f751b1aa362e"
      },
      "source": [
        "print(y_train[:10])"
      ],
      "execution_count": 85,
      "outputs": [
        {
          "output_type": "stream",
          "text": [
            "[ 1  5  6  4  0  1  6  6 14 10]\n"
          ],
          "name": "stdout"
        }
      ]
    },
    {
      "cell_type": "markdown",
      "metadata": {
        "id": "PZYE3ttuhQGm"
      },
      "source": [
        "# Model Training"
      ]
    },
    {
      "cell_type": "markdown",
      "metadata": {
        "id": "AadPbVw3oxJs"
      },
      "source": [
        "## SVM"
      ]
    },
    {
      "cell_type": "code",
      "metadata": {
        "colab": {
          "base_uri": "https://localhost:8080/"
        },
        "id": "lvhrm3AjmqEq",
        "outputId": "9593b5ba-3c41-4992-aaea-adb9b85b9eca"
      },
      "source": [
        "from sklearn.svm import SVC\n",
        "from sklearn.metrics import accuracy_score\n",
        "\n",
        "svm_model = SVC()\n",
        "svm_model.fit(features, y_train)"
      ],
      "execution_count": 146,
      "outputs": [
        {
          "output_type": "execute_result",
          "data": {
            "text/plain": [
              "SVC(C=1.0, break_ties=False, cache_size=200, class_weight=None, coef0=0.0,\n",
              "    decision_function_shape='ovr', degree=3, gamma='scale', kernel='rbf',\n",
              "    max_iter=-1, probability=False, random_state=None, shrinking=True,\n",
              "    tol=0.001, verbose=False)"
            ]
          },
          "metadata": {
            "tags": []
          },
          "execution_count": 146
        }
      ]
    },
    {
      "cell_type": "code",
      "metadata": {
        "colab": {
          "base_uri": "https://localhost:8080/"
        },
        "id": "VhgXsI4VnE4w",
        "outputId": "c86f7f08-ab0a-4e5b-fa4f-8ab261074232"
      },
      "source": [
        "y_pred = svm_model.predict(features_test)\n",
        "accuracy_score(y_test, y_pred)"
      ],
      "execution_count": 148,
      "outputs": [
        {
          "output_type": "execute_result",
          "data": {
            "text/plain": [
              "0.248"
            ]
          },
          "metadata": {
            "tags": []
          },
          "execution_count": 148
        }
      ]
    },
    {
      "cell_type": "markdown",
      "metadata": {
        "id": "vyqJcY4AoywU"
      },
      "source": [
        "## Multinomial Naive Bayes"
      ]
    },
    {
      "cell_type": "code",
      "metadata": {
        "colab": {
          "base_uri": "https://localhost:8080/"
        },
        "id": "RexifgoVngu2",
        "outputId": "449e4487-5cf9-4765-ab31-617b8688cb32"
      },
      "source": [
        "from sklearn.naive_bayes import MultinomialNB\n",
        "from sklearn.metrics import accuracy_score\n",
        "\n",
        "mnb_model = MultinomialNB()\n",
        "mnb_model.fit(features, y_train)"
      ],
      "execution_count": 150,
      "outputs": [
        {
          "output_type": "execute_result",
          "data": {
            "text/plain": [
              "MultinomialNB(alpha=1.0, class_prior=None, fit_prior=True)"
            ]
          },
          "metadata": {
            "tags": []
          },
          "execution_count": 150
        }
      ]
    },
    {
      "cell_type": "code",
      "metadata": {
        "colab": {
          "base_uri": "https://localhost:8080/"
        },
        "id": "FP05Ay3Jnvu5",
        "outputId": "3f6b79f8-1eb8-44e9-affb-d034afb380c9"
      },
      "source": [
        "y_pred = mnb_model.predict(features_test)\n",
        "accuracy_score(y_test, y_pred)"
      ],
      "execution_count": 151,
      "outputs": [
        {
          "output_type": "execute_result",
          "data": {
            "text/plain": [
              "0.272"
            ]
          },
          "metadata": {
            "tags": []
          },
          "execution_count": 151
        }
      ]
    },
    {
      "cell_type": "code",
      "metadata": {
        "colab": {
          "base_uri": "https://localhost:8080/",
          "height": 569
        },
        "id": "x4BvydqcoN3G",
        "outputId": "6ef154dc-26e8-4b08-9fe8-b51cebcdc6d0"
      },
      "source": [
        "from sklearn.metrics import confusion_matrix\n",
        "import seaborn as sns\n",
        "import matplotlib.pyplot as plt\n",
        "\n",
        "conf_mat = confusion_matrix(y_test, y_pred)\n",
        "conf_mat\n",
        "\n",
        "ax = plt.subplots(figsize=(9, 9))\n",
        "ax = sns.heatmap(conf_mat, square = True, annot=True, fmt = 'd', cmap=\"YlGnBu\", cbar = False)\n",
        "plt.xlabel(\"Predicted Class\")\n",
        "plt.ylabel(\"Actual Class\")"
      ],
      "execution_count": 153,
      "outputs": [
        {
          "output_type": "execute_result",
          "data": {
            "text/plain": [
              "Text(66.48, 0.5, 'Actual Class')"
            ]
          },
          "metadata": {
            "tags": []
          },
          "execution_count": 153
        },
        {
          "output_type": "display_data",
          "data": {
            "image/png": "[encoded data removed]",
            "text/plain": [
              "<Figure size 648x648 with 1 Axes>"
            ]
          },
          "metadata": {
            "tags": [],
            "needs_background": "light"
          }
        }
      ]
    },
    {
      "cell_type": "markdown",
      "metadata": {
        "id": "L8cFGOXoo2pE"
      },
      "source": [
        "## Neural Network"
      ]
    },
    {
      "cell_type": "code",
      "metadata": {
        "id": "difdytYp2LSE"
      },
      "source": [
        "from keras.models import Sequential\n",
        "from keras.layers import Flatten, Dense, Softmax, Dropout\n",
        "\n",
        "model = Sequential()\n",
        "model.add(Dense(256, input_shape = features[0].shape, activation = 'relu'))\n",
        "model.add(Dense(128, activation = 'relu'))\n",
        "model.add(Dense(128, activation = 'sigmoid'))\n",
        "model.add(Dense(128, activation = 'relu'))\n",
        "model.add(Dense(128, activation = 'sigmoid'))\n",
        "model.add(Dropout(0.2))\n",
        "model.add(Dense(19))\n",
        "model.add(Softmax())"
      ],
      "execution_count": 132,
      "outputs": []
    },
    {
      "cell_type": "code",
      "metadata": {
        "id": "4vXOBoZR5Co_"
      },
      "source": [
        "model.compile(optimizer = 'adam',\n",
        "              loss='sparse_categorical_crossentropy',\n",
        "              metrics=['accuracy'])"
      ],
      "execution_count": 133,
      "outputs": []
    },
    {
      "cell_type": "code",
      "metadata": {
        "colab": {
          "base_uri": "https://localhost:8080/"
        },
        "id": "rwwagTtyrCPN",
        "outputId": "e7335113-d430-4043-8ada-bd92d11b6a7c"
      },
      "source": [
        "model.summary()"
      ],
      "execution_count": 134,
      "outputs": [
        {
          "output_type": "stream",
          "text": [
            "Model: \"sequential_3\"\n",
            "_________________________________________________________________\n",
            "Layer (type)                 Output Shape              Param #   \n",
            "=================================================================\n",
            "dense_18 (Dense)             (None, 256)               1449472   \n",
            "_________________________________________________________________\n",
            "dense_19 (Dense)             (None, 128)               32896     \n",
            "_________________________________________________________________\n",
            "dense_20 (Dense)             (None, 128)               16512     \n",
            "_________________________________________________________________\n",
            "dense_21 (Dense)             (None, 128)               16512     \n",
            "_________________________________________________________________\n",
            "dense_22 (Dense)             (None, 128)               16512     \n",
            "_________________________________________________________________\n",
            "dropout_3 (Dropout)          (None, 128)               0         \n",
            "_________________________________________________________________\n",
            "dense_23 (Dense)             (None, 19)                2451      \n",
            "_________________________________________________________________\n",
            "softmax_3 (Softmax)          (None, 19)                0         \n",
            "=================================================================\n",
            "Total params: 1,534,355\n",
            "Trainable params: 1,534,355\n",
            "Non-trainable params: 0\n",
            "_________________________________________________________________\n"
          ],
          "name": "stdout"
        }
      ]
    },
    {
      "cell_type": "code",
      "metadata": {
        "colab": {
          "base_uri": "https://localhost:8080/"
        },
        "id": "ytj-nh5E5I_0",
        "outputId": "e36341e0-92ba-4f00-ccf4-b7988ae27550"
      },
      "source": [
        "history = model.fit(features, y_train, validation_data = (features_test, y_test), epochs = 50)"
      ],
      "execution_count": 135,
      "outputs": [
        {
          "output_type": "stream",
          "text": [
            "Epoch 1/50\n",
            "16/16 [==============================] - 2s 42ms/step - loss: 3.0434 - accuracy: 0.1220 - val_loss: 2.4573 - val_accuracy: 0.2480\n",
            "Epoch 2/50\n",
            "16/16 [==============================] - 0s 15ms/step - loss: 2.5416 - accuracy: 0.2136 - val_loss: 2.3708 - val_accuracy: 0.2480\n",
            "Epoch 3/50\n",
            "16/16 [==============================] - 0s 16ms/step - loss: 2.3348 - accuracy: 0.2516 - val_loss: 2.3862 - val_accuracy: 0.2480\n",
            "Epoch 4/50\n",
            "16/16 [==============================] - 0s 15ms/step - loss: 2.3935 - accuracy: 0.2360 - val_loss: 2.3678 - val_accuracy: 0.2480\n",
            "Epoch 5/50\n",
            "16/16 [==============================] - 0s 15ms/step - loss: 2.1954 - accuracy: 0.2678 - val_loss: 2.3031 - val_accuracy: 0.3040\n",
            "Epoch 6/50\n",
            "16/16 [==============================] - 0s 15ms/step - loss: 1.8354 - accuracy: 0.4418 - val_loss: 2.3756 - val_accuracy: 0.2640\n",
            "Epoch 7/50\n",
            "16/16 [==============================] - 0s 15ms/step - loss: 1.6319 - accuracy: 0.5283 - val_loss: 2.5010 - val_accuracy: 0.2400\n",
            "Epoch 8/50\n",
            "16/16 [==============================] - 0s 15ms/step - loss: 1.3283 - accuracy: 0.5865 - val_loss: 2.6297 - val_accuracy: 0.2400\n",
            "Epoch 9/50\n",
            "16/16 [==============================] - 0s 16ms/step - loss: 1.2220 - accuracy: 0.6315 - val_loss: 2.7998 - val_accuracy: 0.2160\n",
            "Epoch 10/50\n",
            "16/16 [==============================] - 0s 14ms/step - loss: 1.0250 - accuracy: 0.6875 - val_loss: 2.9472 - val_accuracy: 0.1840\n",
            "Epoch 11/50\n",
            "16/16 [==============================] - 0s 14ms/step - loss: 0.8937 - accuracy: 0.7598 - val_loss: 3.0456 - val_accuracy: 0.1520\n",
            "Epoch 12/50\n",
            "16/16 [==============================] - 0s 16ms/step - loss: 0.7898 - accuracy: 0.8008 - val_loss: 3.2260 - val_accuracy: 0.0960\n",
            "Epoch 13/50\n",
            "16/16 [==============================] - 0s 15ms/step - loss: 0.6438 - accuracy: 0.8458 - val_loss: 3.1048 - val_accuracy: 0.1600\n",
            "Epoch 14/50\n",
            "16/16 [==============================] - 0s 15ms/step - loss: 0.5243 - accuracy: 0.8721 - val_loss: 3.3480 - val_accuracy: 0.1040\n",
            "Epoch 15/50\n",
            "16/16 [==============================] - 0s 15ms/step - loss: 0.5492 - accuracy: 0.8635 - val_loss: 3.3096 - val_accuracy: 0.1440\n",
            "Epoch 16/50\n",
            "16/16 [==============================] - 0s 15ms/step - loss: 0.4411 - accuracy: 0.9148 - val_loss: 3.5235 - val_accuracy: 0.1040\n",
            "Epoch 17/50\n",
            "16/16 [==============================] - 0s 14ms/step - loss: 0.4100 - accuracy: 0.8959 - val_loss: 3.5398 - val_accuracy: 0.1200\n",
            "Epoch 18/50\n",
            "16/16 [==============================] - 0s 15ms/step - loss: 0.3745 - accuracy: 0.9142 - val_loss: 3.7020 - val_accuracy: 0.1040\n",
            "Epoch 19/50\n",
            "16/16 [==============================] - 0s 15ms/step - loss: 0.3199 - accuracy: 0.9244 - val_loss: 3.7158 - val_accuracy: 0.0880\n",
            "Epoch 20/50\n",
            "16/16 [==============================] - 0s 15ms/step - loss: 0.2921 - accuracy: 0.9406 - val_loss: 3.8272 - val_accuracy: 0.1040\n",
            "Epoch 21/50\n",
            "16/16 [==============================] - 0s 14ms/step - loss: 0.2964 - accuracy: 0.9249 - val_loss: 3.8876 - val_accuracy: 0.1120\n",
            "Epoch 22/50\n",
            "16/16 [==============================] - 0s 15ms/step - loss: 0.2755 - accuracy: 0.9437 - val_loss: 3.9725 - val_accuracy: 0.0880\n",
            "Epoch 23/50\n",
            "16/16 [==============================] - 0s 15ms/step - loss: 0.2319 - accuracy: 0.9571 - val_loss: 4.1645 - val_accuracy: 0.0880\n",
            "Epoch 24/50\n",
            "16/16 [==============================] - 0s 15ms/step - loss: 0.2285 - accuracy: 0.9619 - val_loss: 4.1920 - val_accuracy: 0.0960\n",
            "Epoch 25/50\n",
            "16/16 [==============================] - 0s 15ms/step - loss: 0.2492 - accuracy: 0.9467 - val_loss: 4.3366 - val_accuracy: 0.0720\n",
            "Epoch 26/50\n",
            "16/16 [==============================] - 0s 15ms/step - loss: 0.2009 - accuracy: 0.9634 - val_loss: 4.2882 - val_accuracy: 0.0880\n",
            "Epoch 27/50\n",
            "16/16 [==============================] - 0s 16ms/step - loss: 0.1748 - accuracy: 0.9634 - val_loss: 4.4506 - val_accuracy: 0.0960\n",
            "Epoch 28/50\n",
            "16/16 [==============================] - 0s 15ms/step - loss: 0.1705 - accuracy: 0.9622 - val_loss: 4.4424 - val_accuracy: 0.0800\n",
            "Epoch 29/50\n",
            "16/16 [==============================] - 0s 15ms/step - loss: 0.1726 - accuracy: 0.9626 - val_loss: 4.5316 - val_accuracy: 0.0880\n",
            "Epoch 30/50\n",
            "16/16 [==============================] - 0s 14ms/step - loss: 0.1677 - accuracy: 0.9748 - val_loss: 4.4938 - val_accuracy: 0.0880\n",
            "Epoch 31/50\n",
            "16/16 [==============================] - 0s 15ms/step - loss: 0.1540 - accuracy: 0.9818 - val_loss: 4.6665 - val_accuracy: 0.0960\n",
            "Epoch 32/50\n",
            "16/16 [==============================] - 0s 15ms/step - loss: 0.1372 - accuracy: 0.9880 - val_loss: 4.6283 - val_accuracy: 0.0880\n",
            "Epoch 33/50\n",
            "16/16 [==============================] - 0s 14ms/step - loss: 0.1236 - accuracy: 0.9835 - val_loss: 4.8045 - val_accuracy: 0.0880\n",
            "Epoch 34/50\n",
            "16/16 [==============================] - 0s 15ms/step - loss: 0.1333 - accuracy: 0.9749 - val_loss: 4.8012 - val_accuracy: 0.0720\n",
            "Epoch 35/50\n",
            "16/16 [==============================] - 0s 15ms/step - loss: 0.1208 - accuracy: 0.9744 - val_loss: 4.8441 - val_accuracy: 0.0800\n",
            "Epoch 36/50\n",
            "16/16 [==============================] - 0s 17ms/step - loss: 0.1038 - accuracy: 0.9901 - val_loss: 4.9089 - val_accuracy: 0.0800\n",
            "Epoch 37/50\n",
            "16/16 [==============================] - 0s 15ms/step - loss: 0.1073 - accuracy: 0.9778 - val_loss: 4.8721 - val_accuracy: 0.0800\n",
            "Epoch 38/50\n",
            "16/16 [==============================] - 0s 15ms/step - loss: 0.1126 - accuracy: 0.9775 - val_loss: 5.0939 - val_accuracy: 0.0880\n",
            "Epoch 39/50\n",
            "16/16 [==============================] - 0s 15ms/step - loss: 0.0939 - accuracy: 0.9852 - val_loss: 5.0526 - val_accuracy: 0.0640\n",
            "Epoch 40/50\n",
            "16/16 [==============================] - 0s 14ms/step - loss: 0.0904 - accuracy: 0.9888 - val_loss: 5.2344 - val_accuracy: 0.0720\n",
            "Epoch 41/50\n",
            "16/16 [==============================] - 0s 15ms/step - loss: 0.1161 - accuracy: 0.9748 - val_loss: 5.2105 - val_accuracy: 0.0800\n",
            "Epoch 42/50\n",
            "16/16 [==============================] - 0s 15ms/step - loss: 0.0987 - accuracy: 0.9907 - val_loss: 5.3080 - val_accuracy: 0.0640\n",
            "Epoch 43/50\n",
            "16/16 [==============================] - 0s 15ms/step - loss: 0.0978 - accuracy: 0.9880 - val_loss: 5.3226 - val_accuracy: 0.0720\n",
            "Epoch 44/50\n",
            "16/16 [==============================] - 0s 15ms/step - loss: 0.0979 - accuracy: 0.9831 - val_loss: 5.3311 - val_accuracy: 0.0720\n",
            "Epoch 45/50\n",
            "16/16 [==============================] - 0s 15ms/step - loss: 0.0671 - accuracy: 0.9991 - val_loss: 5.3392 - val_accuracy: 0.0800\n",
            "Epoch 46/50\n",
            "16/16 [==============================] - 0s 15ms/step - loss: 0.0617 - accuracy: 0.9973 - val_loss: 5.3651 - val_accuracy: 0.0800\n",
            "Epoch 47/50\n",
            "16/16 [==============================] - 0s 15ms/step - loss: 0.0673 - accuracy: 0.9917 - val_loss: 5.4209 - val_accuracy: 0.0720\n",
            "Epoch 48/50\n",
            "16/16 [==============================] - 0s 15ms/step - loss: 0.0559 - accuracy: 0.9987 - val_loss: 5.3917 - val_accuracy: 0.0800\n",
            "Epoch 49/50\n",
            "16/16 [==============================] - 0s 16ms/step - loss: 0.0507 - accuracy: 1.0000 - val_loss: 5.4446 - val_accuracy: 0.0800\n",
            "Epoch 50/50\n",
            "16/16 [==============================] - 0s 15ms/step - loss: 0.0545 - accuracy: 0.9937 - val_loss: 5.4822 - val_accuracy: 0.0800\n"
          ],
          "name": "stdout"
        }
      ]
    },
    {
      "cell_type": "code",
      "metadata": {
        "id": "m1onQqOSBT-v",
        "colab": {
          "base_uri": "https://localhost:8080/",
          "height": 281
        },
        "outputId": "32c89ea8-f17b-444f-cb1c-23565b9e7d25"
      },
      "source": [
        "import matplotlib.pyplot as plt\n",
        "\n",
        "plt.subplot(221)\n",
        "plt.title(\"Accuracy\")\n",
        "plt.plot(history.history['accuracy'], label='accuracy')\n",
        "plt.legend()\n",
        "plt.subplot(222)\n",
        "plt.title(\"Loss\")\n",
        "plt.plot(history.history['loss'], label='loss')\n",
        "plt.legend()\n",
        "plt.subplot(223)\n",
        "plt.title(\"Accuracy\")\n",
        "plt.plot(history.history['val_accuracy'], label='val_accuracy')\n",
        "plt.legend()\n",
        "plt.subplot(224)\n",
        "plt.title(\"Loss\")\n",
        "plt.plot(history.history['val_loss'], label='val_loss')\n",
        "plt.legend()\n",
        "plt.show()"
      ],
      "execution_count": 136,
      "outputs": [
        {
          "output_type": "display_data",
          "data": {
            "image/png": "[encoded data removed]",
            "text/plain": [
              "<Figure size 432x288 with 4 Axes>"
            ]
          },
          "metadata": {
            "tags": [],
            "needs_background": "light"
          }
        }
      ]
    }
  ]
}